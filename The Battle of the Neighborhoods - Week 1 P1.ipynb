{
 "cells": [
  {
   "cell_type": "markdown",
   "metadata": {},
   "source": [
    "## **The Battle of the Neighborhoods - Week 1**"
   ]
  },
  {
   "cell_type": "markdown",
   "metadata": {},
   "source": [
    "### **Introduction & Business Problem :**"
   ]
  },
  {
   "cell_type": "markdown",
   "metadata": {},
   "source": [
    "### **Problem Background:**"
   ]
  },
  {
   "cell_type": "markdown",
   "metadata": {},
   "source": [
    "New York City encompasses the largest municipal and regional economy in the United States. Anchored by Wall Street in Lower Manhattan, New York City has been characterized as the world's premier financial center.\n",
    "It is diverse and is the financial It is multicultural. It provides lot of business opportunities and business friendly environment.It has attracted many different players into the market. It is a global hub of business and commerce.\n",
    "Manhattan is the world's leading center of banking, finance, and communication. It is home to the New York Stock Exchange (NYSE) on Wall Street. Many of the world's largest corporations are headquartered in Manhattan. The borough contained over 500 million square feet (46.5 million m2) of office space in 2015, making it the largest office market in the United States. Midtown Manhattan, with nearly 400 million square feet (37.2 million m2) that same year, is the largest central business district in the world. New York City is distinctive for its high concentrations of advanced service sector firms in the law, accountancy, banking and management consultancy fields. It is the top global center for the advertising industry, which is metonymously called \"Madison Avenue\". Silicon Alley, metonymous for New York's broad-spectrum high technology sphere, continues to expand.\n",
    "\n",
    "Finance, high technology, real estate, insurance, and health care all form the basis of New York City's economy. The city is also the nation's most important center for mass media, journalism, and publishing. Also, it is the country's preeminent arts center. Creative industries such as digital media, advertising, fashion, design and architecture account for a growing share of employment. New York City possesses a strong competitive advantage in these industries. Despite declining, manufacturing remains consequential.\n",
    "\n",
    "\n",
    "\n",
    " \n"
   ]
  },
  {
   "cell_type": "markdown",
   "metadata": {},
   "source": [
    "### **Problem Description:**"
   ]
  },
  {
   "cell_type": "markdown",
   "metadata": {},
   "source": [
    "A restaurant is a business which prepares and serves food and drink to customers in return for money, either paid before the meal, after the meal, or with an open account. The City of New York is famous for its excellent cuisine. It's food culture includes an array of international cuisines influenced by the city's immigrant history.\n",
    "\n",
    "\n",
    "1. Central and Eastern European immigrants, especially Jewish immigrants - bagels, cheesecake, hot dogs, knishes, and delicatessens.\n",
    "2. Italian immigrants - New York-style pizza and Italian cuisine.\n",
    "3. Jewish immigrants and Irish immigrants - pastrami and corned beef.\n",
    "4. Chinese and other Asian restaurants, sandwich joints, trattorias, diners, and coffeehouses are ubiquitous throughout the city.\n",
    "5. mobile food vendors - Some 4,000 licensed by the city.\n",
    "6. Middle Eastern foods such as falafel and kebabs examples of modern New York street food.\n",
    "7. It is famous for not just Pizzerias, Cafe's but also for fine dining Michelin starred\n",
    "restaurants.The city is home to \"nearly one thousand of the finest and most diverse hot cuisine restaurants in the world\", according to Michelin.\n",
    "So it is evident that to survive in such competitive market it is very important to strategically plan.\n",
    "Various factors need to be studied in order to decide on the Location such as :\n",
    "1. New York Population\n",
    "2. New York City Demographics\n",
    "3. Are there any Farmers Markets, Wholesale markets etc nearby so that the ingredients can be purchased fresh to maintain quality and cost?\n",
    "4. Are there any venues like Gyms, Entertainmnet zones, Parks etc nearby where floating population is high...etc.\n",
    "5. Who are the competitors in that location?\n",
    "6. Cuisine served / Menu of the competitors\n",
    "7. Segmentation of the Borough.\n",
    "8. Untapped markets.\n",
    "9. Saturated markets... etc.\n",
    "\n",
    "Even though well funded Company who have successful chain restaurants.need to choose the correct location to start its first venture.If this is successful they can replicate the same in other locations. First move is very important, thereby choice of location is very important.\n"
   ]
  },
  {
   "cell_type": "markdown",
   "metadata": {},
   "source": [
    "### **Target Audience:**"
   ]
  },
  {
   "cell_type": "markdown",
   "metadata": {},
   "source": [
    "To recommend the correct location, ABC Company Ltd has appointed me to lead of the Data Science team. The objective is to locate and recommend to the management which neighborhood of New york city will be best choice to start a restaurant. The Management also expects to understand the rationale of the recommendations made.\n",
    "This would interest anyone who wants to start a new restaurant in New york city."
   ]
  },
  {
   "cell_type": "markdown",
   "metadata": {},
   "source": [
    "### **Success Criteria:**"
   ]
  },
  {
   "cell_type": "markdown",
   "metadata": {},
   "source": [
    "The success criteria of the project will be a good recommendation of borough/Neighborhood choice to ABC Company Ltd based on Lack of such restaurants in that location and nearest suppliers of ingredients."
   ]
  }
 ],
 "metadata": {
  "kernelspec": {
   "display_name": "Python",
   "language": "python",
   "name": "conda-env-python-py"
  },
  "language_info": {
   "codemirror_mode": {
    "name": "ipython",
    "version": 3
   },
   "file_extension": ".py",
   "mimetype": "text/x-python",
   "name": "python",
   "nbconvert_exporter": "python",
   "pygments_lexer": "ipython3",
   "version": "3.6.10"
  }
 },
 "nbformat": 4,
 "nbformat_minor": 4
}
